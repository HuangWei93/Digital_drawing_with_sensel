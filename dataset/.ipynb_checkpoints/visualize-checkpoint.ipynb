{
 "cells": [
  {
   "cell_type": "code",
   "execution_count": 1,
   "metadata": {},
   "outputs": [],
   "source": [
    "import numpy as np\n",
    "import matplotlib.pyplot as plt"
   ]
  },
  {
   "cell_type": "code",
   "execution_count": 2,
   "metadata": {},
   "outputs": [],
   "source": [
    "paras = np.load('paras.npy')"
   ]
  },
  {
   "cell_type": "code",
   "execution_count": 3,
   "metadata": {},
   "outputs": [
    {
     "data": {
      "text/plain": [
       "(array([ 32.,  46.,  56., 232., 136.,  57.,  26.,  31.,  32.,  79.,  35.,\n",
       "         47.]),\n",
       " array([-1.20000000e-01, -6.00008595e-02, -1.71895946e-06,  5.99974216e-02,\n",
       "         1.19996562e-01,  1.79995703e-01,  2.39994843e-01,  2.99993984e-01,\n",
       "         3.59993124e-01,  4.19992265e-01,  4.79991405e-01,  5.39990546e-01,\n",
       "         5.99989686e-01]),\n",
       " <a list of 12 Patch objects>)"
      ]
     },
     "execution_count": 3,
     "metadata": {},
     "output_type": "execute_result"
    },
    {
     "data": {
      "image/png": "[encoded data removed]",
      "text/plain": [
       "<Figure size 432x288 with 1 Axes>"
      ]
     },
     "metadata": {
      "needs_background": "light"
     },
     "output_type": "display_data"
    }
   ],
   "source": [
    "#######################\n",
    "#Volocity along x axis#\n",
    "#######################\n",
    "# create a figure and axis \n",
    "plt.hist(paras[:,2], bins = 12)"
   ]
  },
  {
   "cell_type": "code",
   "execution_count": 11,
   "metadata": {},
   "outputs": [
    {
     "data": {
      "text/plain": [
       "(array([38., 45., 23., 16., 11., 26., 40., 19., 59., 76., 44., 12.]),\n",
       " array([-0.7       , -0.63747117, -0.57494233, -0.5124135 , -0.44988466,\n",
       "        -0.38735583, -0.32482699, -0.26229816, -0.19976933, -0.13724049,\n",
       "        -0.07471166, -0.01218282,  0.05034601]),\n",
       " <a list of 12 Patch objects>)"
      ]
     },
     "execution_count": 11,
     "metadata": {},
     "output_type": "execute_result"
    },
    {
     "data": {
      "image/png": "[encoded data removed]",
      "text/plain": [
       "<Figure size 432x288 with 1 Axes>"
      ]
     },
     "metadata": {
      "needs_background": "light"
     },
     "output_type": "display_data"
    }
   ],
   "source": [
    "#######################\n",
    "#Volocity along y axis#\n",
    "#######################\n",
    "# create a figure and axis \n",
    "plt.hist(paras[:,3], bins = 12)"
   ]
  },
  {
   "cell_type": "code",
   "execution_count": 12,
   "metadata": {},
   "outputs": [
    {
     "data": {
      "text/plain": [
       "(array([48., 75., 96., 82., 48., 28., 18.,  8.,  3.,  0.,  2.,  1.]),\n",
       " array([ 3.23942096,  5.55231207,  7.86520318, 10.17809429, 12.4909854 ,\n",
       "        14.80387651, 17.11676762, 19.42965873, 21.74254984, 24.05544095,\n",
       "        26.36833206, 28.68122317, 30.99411428]),\n",
       " <a list of 12 Patch objects>)"
      ]
     },
     "execution_count": 12,
     "metadata": {},
     "output_type": "execute_result"
    },
    {
     "data": {
      "image/png": "[encoded data removed]",
      "text/plain": [
       "<Figure size 432x288 with 1 Axes>"
      ]
     },
     "metadata": {
      "needs_background": "light"
     },
     "output_type": "display_data"
    }
   ],
   "source": [
    "#######################\n",
    "#     Pressure        #\n",
    "#######################\n",
    "# create a figure and axis \n",
    "plt.hist(paras[:,4], bins = 12)"
   ]
  },
  {
   "cell_type": "code",
   "execution_count": 13,
   "metadata": {},
   "outputs": [
    {
     "data": {
      "text/plain": [
       "(array([ 6.,  7., 17., 28., 47., 45., 26., 28., 43., 69., 43., 50.]),\n",
       " array([31.89      , 32.64916667, 33.40833333, 34.1675    , 34.92666667,\n",
       "        35.68583333, 36.445     , 37.20416667, 37.96333333, 38.7225    ,\n",
       "        39.48166667, 40.24083333, 41.        ]),\n",
       " <a list of 12 Patch objects>)"
      ]
     },
     "execution_count": 13,
     "metadata": {},
     "output_type": "execute_result"
    },
    {
     "data": {
      "image/png": "[encoded data removed]",
      "text/plain": [
       "<Figure size 432x288 with 1 Axes>"
      ]
     },
     "metadata": {
      "needs_background": "light"
     },
     "output_type": "display_data"
    }
   ],
   "source": [
    "#######################\n",
    "#      Theta          #\n",
    "#######################\n",
    "# create a figure and axis \n",
    "plt.hist(paras[:,5], bins = 12)"
   ]
  },
  {
   "cell_type": "code",
   "execution_count": 14,
   "metadata": {},
   "outputs": [
    {
     "data": {
      "text/plain": [
       "(array([ 4.,  4., 27., 15., 15., 29., 23., 29., 58., 81., 78., 46.]),\n",
       " array([-17.76935509, -11.35378856,  -4.93822202,   1.47734451,\n",
       "          7.89291104,  14.30847757,  20.7240441 ,  27.13961063,\n",
       "         33.55517717,  39.9707437 ,  46.38631023,  52.80187676,\n",
       "         59.21744329]),\n",
       " <a list of 12 Patch objects>)"
      ]
     },
     "execution_count": 14,
     "metadata": {},
     "output_type": "execute_result"
    },
    {
     "data": {
      "image/png": "[encoded data removed]",
      "text/plain": [
       "<Figure size 432x288 with 1 Axes>"
      ]
     },
     "metadata": {
      "needs_background": "light"
     },
     "output_type": "display_data"
    }
   ],
   "source": [
    "#######################\n",
    "#      Phi            #\n",
    "#######################\n",
    "# create a figure and axis \n",
    "plt.hist(paras[:,6], bins = 12)"
   ]
  },
  {
   "cell_type": "code",
   "execution_count": null,
   "metadata": {},
   "outputs": [],
   "source": []
  }
 ],
 "metadata": {
  "kernelspec": {
   "display_name": "Python 3",
   "language": "python",
   "name": "python3"
  },
  "language_info": {
   "codemirror_mode": {
    "name": "ipython",
    "version": 3
   },
   "file_extension": ".py",
   "mimetype": "text/x-python",
   "name": "python",
   "nbconvert_exporter": "python",
   "pygments_lexer": "ipython3",
   "version": "3.6.8"
  }
 },
 "nbformat": 4,
 "nbformat_minor": 2
}
