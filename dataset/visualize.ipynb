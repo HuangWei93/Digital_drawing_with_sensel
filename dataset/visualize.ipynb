{
 "cells": [
  {
   "cell_type": "code",
   "execution_count": 10,
   "metadata": {},
   "outputs": [],
   "source": [
    "import numpy as np\n",
    "import matplotlib.pyplot as plt"
   ]
  },
  {
   "cell_type": "code",
   "execution_count": 32,
   "metadata": {},
   "outputs": [
    {
     "name": "stdout",
     "output_type": "stream",
     "text": [
      "[ 0.20844842  0.30570633 10.41164365 37.56067591 35.09866194] [ 0.17011361  0.21854238  4.66586406  2.26830811 16.74600367]\n"
     ]
    }
   ],
   "source": [
    "X = np.load('paras.npy')\n",
    "X = X[:,2:]\n",
    "X.astype('float32')\n",
    "X = abs(X)\n",
    "stds = np.std(X, axis = 0)\n",
    "means = np.mean(X, axis = 0)\n",
    "paras = (X - means)/stds\n",
    "print(means, stds)"
   ]
  },
  {
   "cell_type": "code",
   "execution_count": 24,
   "metadata": {},
   "outputs": [
    {
     "name": "stdout",
     "output_type": "stream",
     "text": [
      "[[-8.66430315e-01 -2.95449292e-01 -1.05267612e+00 -2.49995840e+00\n",
      "   6.86838428e-01]\n",
      " [-8.07290084e-01 -3.38998409e-01 -1.05019341e+00 -2.45250352e+00\n",
      "   6.52240927e-01]\n",
      " [-7.69765803e-01 -3.97540969e-01 -1.02039657e+00 -2.42003928e+00\n",
      "   6.03106861e-01]\n",
      " ...\n",
      " [-5.92095195e-01  1.16782246e+00 -6.16764878e-01  3.42060258e-02\n",
      "   8.21287466e-01]\n",
      " [-5.92097685e-01  1.20646334e+00 -5.94120474e-01  1.26665035e-03\n",
      "   8.07120020e-01]\n",
      " [-5.92105926e-01  1.16023476e+00 -1.17871537e+00 -4.11511001e-02\n",
      "   1.18018164e+00]]\n"
     ]
    }
   ],
   "source": [
    "print(paras)"
   ]
  },
  {
   "cell_type": "code",
   "execution_count": 25,
   "metadata": {},
   "outputs": [
    {
     "data": {
      "text/plain": [
       "(array([ 30.,  46.,  55., 228., 132.,  57.,  26.,  31.,  33.,  82.,  32.,\n",
       "         47.]),\n",
       " array([-1.74675881, -1.41735457, -1.08795032, -0.75854607, -0.42914182,\n",
       "        -0.09973757,  0.22966668,  0.55907093,  0.88847518,  1.21787943,\n",
       "         1.54728367,  1.87668792,  2.20609217]),\n",
       " <a list of 12 Patch objects>)"
      ]
     },
     "execution_count": 25,
     "metadata": {},
     "output_type": "execute_result"
    },
    {
     "data": {
      "image/png": "[encoded data removed]",
      "text/plain": [
       "<Figure size 432x288 with 1 Axes>"
      ]
     },
     "metadata": {
      "needs_background": "light"
     },
     "output_type": "display_data"
    }
   ],
   "source": [
    "#######################\n",
    "#Volocity along x axis#\n",
    "#######################\n",
    "# create a figure and axis \n",
    "plt.hist(paras[:,0], bins = 12)"
   ]
  },
  {
   "cell_type": "code",
   "execution_count": 26,
   "metadata": {},
   "outputs": [
    {
     "data": {
      "text/plain": [
       "(array([ 75.,  81.,  54.,  29.,  20.,  58.,  73.,  41.,  79., 186.,  71.,\n",
       "         32.]),\n",
       " array([-1.81913388, -1.53628634, -1.25343879, -0.97059124, -0.68774369,\n",
       "        -0.40489615, -0.1220486 ,  0.16079895,  0.44364649,  0.72649404,\n",
       "         1.00934159,  1.29218914,  1.57503668]),\n",
       " <a list of 12 Patch objects>)"
      ]
     },
     "execution_count": 26,
     "metadata": {},
     "output_type": "execute_result"
    },
    {
     "data": {
      "image/png": "[encoded data removed]",
      "text/plain": [
       "<Figure size 432x288 with 1 Axes>"
      ]
     },
     "metadata": {
      "needs_background": "light"
     },
     "output_type": "display_data"
    }
   ],
   "source": [
    "#######################\n",
    "#Volocity along y axis#\n",
    "#######################\n",
    "# create a figure and axis \n",
    "plt.hist(paras[:,1], bins = 12)"
   ]
  },
  {
   "cell_type": "code",
   "execution_count": 27,
   "metadata": {},
   "outputs": [
    {
     "data": {
      "text/plain": [
       "(array([ 70., 153., 175., 167.,  99.,  56.,  35.,  26.,  10.,   2.,   2.,\n",
       "          4.]),\n",
       " array([-1.67428024, -1.16703644, -0.65979263, -0.15254883,  0.35469497,\n",
       "         0.86193877,  1.36918258,  1.87642638,  2.38367018,  2.89091398,\n",
       "         3.39815779,  3.90540159,  4.41264539]),\n",
       " <a list of 12 Patch objects>)"
      ]
     },
     "execution_count": 27,
     "metadata": {},
     "output_type": "execute_result"
    },
    {
     "data": {
      "image/png": "[encoded data removed]",
      "text/plain": [
       "<Figure size 432x288 with 1 Axes>"
      ]
     },
     "metadata": {
      "needs_background": "light"
     },
     "output_type": "display_data"
    }
   ],
   "source": [
    "#######################\n",
    "#     Pressure        #\n",
    "#######################\n",
    "# create a figure and axis \n",
    "plt.hist(paras[:,2], bins = 12)"
   ]
  },
  {
   "cell_type": "code",
   "execution_count": 28,
   "metadata": {},
   "outputs": [
    {
     "data": {
      "text/plain": [
       "(array([ 11.,  14.,  35.,  56.,  93.,  89.,  48.,  53.,  82., 138.,  83.,\n",
       "         97.]),\n",
       " array([-2.4999584 , -2.16474752, -1.82953663, -1.49432575, -1.15911486,\n",
       "        -0.82390398, -0.48869309, -0.15348221,  0.18172868,  0.51693956,\n",
       "         0.85215045,  1.18736133,  1.52257222]),\n",
       " <a list of 12 Patch objects>)"
      ]
     },
     "execution_count": 28,
     "metadata": {},
     "output_type": "execute_result"
    },
    {
     "data": {
      "image/png": "[encoded data removed]",
      "text/plain": [
       "<Figure size 432x288 with 1 Axes>"
      ]
     },
     "metadata": {
      "needs_background": "light"
     },
     "output_type": "display_data"
    }
   ],
   "source": [
    "#######################\n",
    "#      Theta          #\n",
    "#######################\n",
    "# create a figure and axis \n",
    "plt.hist(paras[:,3], bins = 12)"
   ]
  },
  {
   "cell_type": "code",
   "execution_count": 29,
   "metadata": {},
   "outputs": [
    {
     "data": {
      "text/plain": [
       "(array([  9.,  33.,  40.,  26.,  41.,  50.,  47.,  56., 116., 169., 128.,\n",
       "         84.]),\n",
       " array([-2.75425278, -2.40762391, -2.06099504, -1.71436617, -1.3677373 ,\n",
       "        -1.02110844, -0.67447957, -0.3278507 ,  0.01877817,  0.36540703,\n",
       "         0.7120359 ,  1.05866477,  1.40529364]),\n",
       " <a list of 12 Patch objects>)"
      ]
     },
     "execution_count": 29,
     "metadata": {},
     "output_type": "execute_result"
    },
    {
     "data": {
      "image/png": "[encoded data removed]",
      "text/plain": [
       "<Figure size 432x288 with 1 Axes>"
      ]
     },
     "metadata": {
      "needs_background": "light"
     },
     "output_type": "display_data"
    }
   ],
   "source": [
    "#######################\n",
    "#      Phi            #\n",
    "#######################\n",
    "# create a figure and axis \n",
    "plt.hist(paras[:,4], bins = 12)"
   ]
  },
  {
   "cell_type": "code",
   "execution_count": null,
   "metadata": {},
   "outputs": [],
   "source": [
    "from sklearn.cluster import KMeans\n",
    "kmeans = KMeans(n_clusters=10, random_state=0).fit(X)"
   ]
  },
  {
   "cell_type": "code",
   "execution_count": null,
   "metadata": {},
   "outputs": [],
   "source": [
    "print(kmeans.cluster_centers_ * stds + means)"
   ]
  },
  {
   "cell_type": "code",
   "execution_count": null,
   "metadata": {},
   "outputs": [],
   "source": []
  }
 ],
 "metadata": {
  "kernelspec": {
   "display_name": "Python 3",
   "language": "python",
   "name": "python3"
  },
  "language_info": {
   "codemirror_mode": {
    "name": "ipython",
    "version": 3
   },
   "file_extension": ".py",
   "mimetype": "text/x-python",
   "name": "python",
   "nbconvert_exporter": "python",
   "pygments_lexer": "ipython3",
   "version": "3.6.8"
  }
 },
 "nbformat": 4,
 "nbformat_minor": 2
}
