{
 "cells": [
  {
   "cell_type": "code",
   "execution_count": 2,
   "metadata": {},
   "outputs": [],
   "source": [
    "import numpy as np\n",
    "import cv2, PIL\n",
    "from cv2 import aruco\n",
    "import matplotlib.pyplot as plt\n",
    "import matplotlib as mpl\n",
    "import pandas as pd\n",
    "%matplotlib nbagg"
   ]
  },
  {
   "cell_type": "code",
   "execution_count": 12,
   "metadata": {},
   "outputs": [
    {
     "data": {
      "image/png": "[encoded data removed]",
      "text/plain": [
       "<Figure size 432x288 with 4 Axes>"
      ]
     },
     "metadata": {
      "needs_background": "light"
     },
     "output_type": "display_data"
    }
   ],
   "source": [
    "aruco_dict = aruco.Dictionary_get(aruco.DICT_6X6_250)\n",
    "\n",
    "fig = plt.figure()\n",
    "nx = 3\n",
    "ny = 12\n",
    "ax = fig.add_subplot(nx,ny, 2)\n",
    "img = aruco.drawMarker(aruco_dict,1, 700)\n",
    "plt.imshow(img, cmap = mpl.cm.gray, interpolation = \"nearest\")\n",
    "ax.axis(\"off\")\n",
    "ax = fig.add_subplot(nx,ny, ny - 1)\n",
    "img = aruco.drawMarker(aruco_dict,2, 700)\n",
    "plt.imshow(img, cmap = mpl.cm.gray, interpolation = \"nearest\")\n",
    "ax.axis(\"off\")\n",
    "ax = fig.add_subplot(nx,ny, nx*ny-ny+2)\n",
    "img = aruco.drawMarker(aruco_dict,3, 700)\n",
    "plt.imshow(img, cmap = mpl.cm.gray, interpolation = \"nearest\")\n",
    "ax.axis(\"off\")\n",
    "ax = fig.add_subplot(nx,ny, nx*ny-1)\n",
    "img = aruco.drawMarker(aruco_dict,4, 700)\n",
    "plt.imshow(img, cmap = mpl.cm.gray, interpolation = \"nearest\")\n",
    "ax.axis(\"off\")\n",
    "plt.savefig(\"./data/markers.pdf\")\n",
    "plt.show()"
   ]
  },
  {
   "cell_type": "code",
   "execution_count": 4,
   "metadata": {},
   "outputs": [
    {
     "data": {
      "image/png": "[encoded data removed]",
      "text/plain": [
       "<Figure size 432x288 with 1 Axes>"
      ]
     },
     "metadata": {
      "needs_background": "light"
     },
     "output_type": "display_data"
    }
   ],
   "source": [
    "aruco_dict = aruco.Dictionary_get(aruco.DICT_6X6_250)\n",
    "fig = plt.figure()\n",
    "img = aruco.drawMarker(aruco_dict,1, 700)\n",
    "plt.imshow(img, cmap = mpl.cm.gray, interpolation = \"nearest\")\n",
    "plt.axis('off')\n",
    "plt.savefig('marker1.png')"
   ]
  },
  {
   "cell_type": "code",
   "execution_count": 5,
   "metadata": {},
   "outputs": [
    {
     "data": {
      "image/png": "[encoded data removed]",
      "text/plain": [
       "<Figure size 432x288 with 1 Axes>"
      ]
     },
     "metadata": {
      "needs_background": "light"
     },
     "output_type": "display_data"
    }
   ],
   "source": [
    "aruco_dict = aruco.Dictionary_get(aruco.DICT_6X6_250)\n",
    "fig = plt.figure()\n",
    "img = aruco.drawMarker(aruco_dict,2, 700)\n",
    "plt.imshow(img, cmap = mpl.cm.gray, interpolation = \"nearest\")\n",
    "plt.axis('off')\n",
    "plt.savefig('marker2.png')"
   ]
  },
  {
   "cell_type": "code",
   "execution_count": 6,
   "metadata": {},
   "outputs": [
    {
     "data": {
      "image/png": "[encoded data removed]",
      "text/plain": [
       "<Figure size 432x288 with 1 Axes>"
      ]
     },
     "metadata": {
      "needs_background": "light"
     },
     "output_type": "display_data"
    }
   ],
   "source": [
    "aruco_dict = aruco.Dictionary_get(aruco.DICT_6X6_250)\n",
    "fig = plt.figure()\n",
    "img = aruco.drawMarker(aruco_dict,3, 700)\n",
    "plt.imshow(img, cmap = mpl.cm.gray, interpolation = \"nearest\")\n",
    "plt.axis('off')\n",
    "plt.savefig('marker3.png')"
   ]
  },
  {
   "cell_type": "code",
   "execution_count": 7,
   "metadata": {},
   "outputs": [
    {
     "data": {
      "image/png": "[encoded data removed]",
      "text/plain": [
       "<Figure size 432x288 with 1 Axes>"
      ]
     },
     "metadata": {
      "needs_background": "light"
     },
     "output_type": "display_data"
    }
   ],
   "source": [
    "aruco_dict = aruco.Dictionary_get(aruco.DICT_6X6_250)\n",
    "fig = plt.figure()\n",
    "img = aruco.drawMarker(aruco_dict,4, 700)\n",
    "plt.imshow(img, cmap = mpl.cm.gray, interpolation = \"nearest\")\n",
    "plt.axis('off')\n",
    "plt.savefig('marker4.png')"
   ]
  },
  {
   "cell_type": "code",
   "execution_count": 9,
   "metadata": {},
   "outputs": [
    {
     "data": {
      "text/plain": [
       "True"
      ]
     },
     "execution_count": 9,
     "metadata": {},
     "output_type": "execute_result"
    }
   ],
   "source": [
    "img = aruco.drawMarker(aruco_dict,1, 700)\n",
    "cv2.imwrite(\"./marker1.png\", img)"
   ]
  },
  {
   "cell_type": "code",
   "execution_count": 10,
   "metadata": {},
   "outputs": [
    {
     "data": {
      "text/plain": [
       "True"
      ]
     },
     "execution_count": 10,
     "metadata": {},
     "output_type": "execute_result"
    }
   ],
   "source": [
    "img = aruco.drawMarker(aruco_dict,2, 700)\n",
    "cv2.imwrite(\"./marker2.png\", img)"
   ]
  },
  {
   "cell_type": "code",
   "execution_count": 11,
   "metadata": {},
   "outputs": [
    {
     "data": {
      "text/plain": [
       "True"
      ]
     },
     "execution_count": 11,
     "metadata": {},
     "output_type": "execute_result"
    }
   ],
   "source": [
    "img = aruco.drawMarker(aruco_dict,3, 700)\n",
    "cv2.imwrite(\"./marker3.png\", img)"
   ]
  },
  {
   "cell_type": "code",
   "execution_count": 12,
   "metadata": {},
   "outputs": [
    {
     "data": {
      "text/plain": [
       "True"
      ]
     },
     "execution_count": 12,
     "metadata": {},
     "output_type": "execute_result"
    }
   ],
   "source": [
    "img = aruco.drawMarker(aruco_dict,4, 700)\n",
    "cv2.imwrite(\"./marker4.png\", img)"
   ]
  },
  {
   "cell_type": "code",
   "execution_count": null,
   "metadata": {},
   "outputs": [],
   "source": []
  }
 ],
 "metadata": {
  "kernelspec": {
   "display_name": "Python 3",
   "language": "python",
   "name": "python3"
  },
  "language_info": {
   "codemirror_mode": {
    "name": "ipython",
    "version": 3
   },
   "file_extension": ".py",
   "mimetype": "text/x-python",
   "name": "python",
   "nbconvert_exporter": "python",
   "pygments_lexer": "ipython3",
   "version": "3.6.8"
  }
 },
 "nbformat": 4,
 "nbformat_minor": 2
}
